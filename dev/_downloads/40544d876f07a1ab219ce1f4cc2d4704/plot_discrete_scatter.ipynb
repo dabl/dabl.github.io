{
  "cells": [
    {
      "cell_type": "code",
      "execution_count": null,
      "metadata": {
        "collapsed": false
      },
      "outputs": [],
      "source": [
        "%matplotlib inline"
      ]
    },
    {
      "cell_type": "markdown",
      "metadata": {},
      "source": [
        "\n# Discrete Scatter Example\n"
      ]
    },
    {
      "cell_type": "code",
      "execution_count": null,
      "metadata": {
        "collapsed": false
      },
      "outputs": [],
      "source": [
        "import matplotlib.pyplot as plt\nfrom dabl.datasets import load_ames\nfrom dabl.plot import discrete_scatter\n\ndata = load_ames()\n\n# Scatter plot for year built and house price grouped by category of quality.\ndiscrete_scatter(\n    x=data[\"Year Built\"],\n    y=data[\"SalePrice\"],\n    c=data[\"Overall Qual\"],\n    unique_c=[2, 4, 6, 8, 10],\n    legend=True,\n    alpha=0.3\n)\nplt.show()"
      ]
    }
  ],
  "metadata": {
    "kernelspec": {
      "display_name": "Python 3",
      "language": "python",
      "name": "python3"
    },
    "language_info": {
      "codemirror_mode": {
        "name": "ipython",
        "version": 3
      },
      "file_extension": ".py",
      "mimetype": "text/x-python",
      "name": "python",
      "nbconvert_exporter": "python",
      "pygments_lexer": "ipython3",
      "version": "3.9.7"
    }
  },
  "nbformat": 4,
  "nbformat_minor": 0
}
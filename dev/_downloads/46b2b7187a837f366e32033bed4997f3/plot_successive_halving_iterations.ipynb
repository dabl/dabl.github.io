{
  "cells": [
    {
      "cell_type": "code",
      "execution_count": null,
      "metadata": {
        "collapsed": false
      },
      "outputs": [],
      "source": [
        "%matplotlib inline"
      ]
    },
    {
      "cell_type": "markdown",
      "metadata": {},
      "source": [
        "\nSuccessive Halving\n==================\n"
      ]
    },
    {
      "cell_type": "code",
      "execution_count": null,
      "metadata": {
        "collapsed": false
      },
      "outputs": [],
      "source": [
        "import pandas as pd\nfrom sklearn import datasets\nimport matplotlib.pyplot as plt\nfrom sklearn.ensemble import RandomForestClassifier\nfrom scipy.stats import randint\nimport numpy as np\n\nfrom dabl.search import RandomSuccessiveHalving\n\n\nrng = np.random.RandomState(0)\n\nX, y = datasets.make_classification(n_samples=700, random_state=rng)\n\nclf = RandomForestClassifier(n_estimators=20, random_state=rng)\n\nparam_dist = {\"max_depth\": [3, None],\n              \"max_features\": randint(1, 11),\n              \"min_samples_split\": randint(2, 11),\n              \"bootstrap\": [True, False],\n              \"criterion\": [\"gini\", \"entropy\"]}\n\nrsh = RandomSuccessiveHalving(\n    estimator=clf,\n    param_distributions=param_dist,\n    budget_on='n_samples',  # budget is the number of samples\n    max_budget='auto',  # max_budget=n_samples\n    n_candidates='auto',  # choose n_cdts so that last iter exhausts budget\n    cv=5,\n    ratio=2,\n    random_state=rng)\nrsh.fit(X, y)\n\nresults = pd.DataFrame(rsh.cv_results_)\nresults['params_str'] = results.params.apply(str)\nmean_scores = results.pivot(index='iter', columns='params_str',\n                            values='mean_test_score')\nax = mean_scores.plot(legend=False, alpha=.6)\n\nr_i_list = results.groupby('iter').r_i.unique()\nlabels = ['{}\\nn_samples={}'.format(i, r_i_list[i])\n          for i in range(rsh.n_iterations_)]\nax.set_xticklabels(labels)\nax.set_title('Candidate scores over iterations')\nax.set_ylabel('score')\nplt.show()"
      ]
    }
  ],
  "metadata": {
    "kernelspec": {
      "display_name": "Python 3",
      "language": "python",
      "name": "python3"
    },
    "language_info": {
      "codemirror_mode": {
        "name": "ipython",
        "version": 3
      },
      "file_extension": ".py",
      "mimetype": "text/x-python",
      "name": "python",
      "nbconvert_exporter": "python",
      "pygments_lexer": "ipython3",
      "version": "3.8.3"
    }
  },
  "nbformat": 4,
  "nbformat_minor": 0
}
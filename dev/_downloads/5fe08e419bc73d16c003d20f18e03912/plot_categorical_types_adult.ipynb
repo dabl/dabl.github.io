{
  "cells": [
    {
      "cell_type": "code",
      "execution_count": null,
      "metadata": {
        "collapsed": false
      },
      "outputs": [],
      "source": [
        "%matplotlib inline"
      ]
    },
    {
      "cell_type": "markdown",
      "metadata": {},
      "source": [
        "\n# Comparing categorical variable visualizations\nThis example showcases the four types of visualization supported for\ncategorical variables for classification,\nwhich are 'count', 'proportion', 'mosaic' and 'sankey'.\n\nThe 'count' plot is easiest to understand and closest to the data, as it\nsimply provides a bar-plot of class counts per category.\nHowever, it makes it hard to make comparisons between different categories.\nFor example, for workclass, it is hard to see the differences in proportions\namong the categories.\n\nThe 'proportion' plot on the other hand *only* shows the proportion, so we can\nsee that the proportions in state-government, government, and self-employed\nare nearly the same. However, 'proportion' does not show how many samples are\nin each category. How much each category is actually present in the data can be\nvery important, though.\n\nThe 'mosaic' plot shows both the class proportions within each category\n(on the x axis) as well as the proportion of the category in the data\n(on the y axis). The 'mosaic' plot can be a bit busy; in particular if\nthere are many classes and many catgories, it becomes harder to interpret.\n\nThe 'sankey' plot is even busier, as it combines the features of the 'count'\nplot with an alluvial flow diagram of interactions.\nBy default, only the 5 most common features are included in the sankey diagram,\nwhich can be adjusted by calling the plot_sankey function directly.\n"
      ]
    },
    {
      "cell_type": "code",
      "execution_count": null,
      "metadata": {
        "collapsed": false
      },
      "outputs": [],
      "source": [
        "from dabl.plot import plot_classification_categorical\nfrom dabl.datasets import load_adult\nimport matplotlib.pyplot as plt\n\n# load the adult census dataset\n# returns a plain dataframe\ndata = load_adult()\n# visualize the interactions of the 5 most important categorical variables\nfor kind in ['count', 'proportion', 'mosaic', 'sankey']:\n    plot_classification_categorical(data, 'income', kind=kind)\n    figure = plt.gcf()\n    figure.suptitle(\"\")\nplt.show()"
      ]
    }
  ],
  "metadata": {
    "kernelspec": {
      "display_name": "Python 3",
      "language": "python",
      "name": "python3"
    },
    "language_info": {
      "codemirror_mode": {
        "name": "ipython",
        "version": 3
      },
      "file_extension": ".py",
      "mimetype": "text/x-python",
      "name": "python",
      "nbconvert_exporter": "python",
      "pygments_lexer": "ipython3",
      "version": "3.10.4"
    }
  },
  "nbformat": 4,
  "nbformat_minor": 0
}
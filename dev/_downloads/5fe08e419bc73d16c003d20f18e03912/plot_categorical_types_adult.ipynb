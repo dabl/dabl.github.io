{
  "cells": [
    {
      "cell_type": "markdown",
      "metadata": {},
      "source": [
        "\n# Comparing categorical variable visualizations\nThis example showcases the four types of visualization supported for\ncategorical variables for classification,\nwhich are 'count', 'proportion', 'mosaic' and 'sankey'.\n"
      ]
    },
    {
      "cell_type": "code",
      "execution_count": null,
      "metadata": {
        "collapsed": false
      },
      "outputs": [],
      "source": [
        "from dabl.plot import plot_classification_categorical\nfrom dabl.datasets import load_adult\n\ndata = load_adult()"
      ]
    },
    {
      "cell_type": "markdown",
      "metadata": {},
      "source": [
        "The 'count' plot is easiest to understand and closest to the data, as it\nsimply provides a bar-plot of class counts per category.\nHowever, it makes it hard to make comparisons between different categories.\nFor example, for workclass, it is hard to see the differences in proportions\namong the categories.\n\n"
      ]
    },
    {
      "cell_type": "code",
      "execution_count": null,
      "metadata": {
        "collapsed": false
      },
      "outputs": [],
      "source": [
        "plot_classification_categorical(data, target_col='income', kind=\"count\")"
      ]
    },
    {
      "cell_type": "markdown",
      "metadata": {},
      "source": [
        "The 'proportion' plot on the other hand *only* shows the proportion, so we\ncan see that the proportions in state-government, government, and\nself-employed are nearly the same. However, 'proportion' does not show how\nmany samples are in each category. How much each category is actually\npresent in the data can be very important, though.\n\n"
      ]
    },
    {
      "cell_type": "code",
      "execution_count": null,
      "metadata": {
        "collapsed": false
      },
      "outputs": [],
      "source": [
        "plot_classification_categorical(data, target_col='income', kind=\"proportion\")"
      ]
    },
    {
      "cell_type": "markdown",
      "metadata": {},
      "source": [
        "The 'mosaic' plot shows both the class proportions within each category\n(on the x axis) as well as the proportion of the category in the data\n(on the y axis). The 'mosaic' plot can be a bit busy; in particular if\nthere are many classes and many catgories, it becomes harder to interpret.\n\n"
      ]
    },
    {
      "cell_type": "code",
      "execution_count": null,
      "metadata": {
        "collapsed": false
      },
      "outputs": [],
      "source": [
        "plot_classification_categorical(data, target_col='income', kind=\"mosaic\")"
      ]
    },
    {
      "cell_type": "markdown",
      "metadata": {},
      "source": [
        "The 'sankey' plot is even busier, as it combines the features of the 'count'\nplot with an alluvial flow diagram of interactions.\nBy default, only the 5 most common features are included in the sankey\ndiagram, which can be adjusted by calling the plot_sankey function directly.\n\n"
      ]
    },
    {
      "cell_type": "code",
      "execution_count": null,
      "metadata": {
        "collapsed": false
      },
      "outputs": [],
      "source": [
        "plot_classification_categorical(data, target_col='income', kind=\"sankey\")"
      ]
    }
  ],
  "metadata": {
    "kernelspec": {
      "display_name": "Python 3",
      "language": "python",
      "name": "python3"
    },
    "language_info": {
      "codemirror_mode": {
        "name": "ipython",
        "version": 3
      },
      "file_extension": ".py",
      "mimetype": "text/x-python",
      "name": "python",
      "nbconvert_exporter": "python",
      "pygments_lexer": "ipython3",
      "version": "3.11.7"
    }
  },
  "nbformat": 4,
  "nbformat_minor": 0
}